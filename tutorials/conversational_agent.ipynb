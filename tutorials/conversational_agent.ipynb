{
  "cells": [
    {
      "cell_type": "markdown",
      "id": "92e3a769",
      "metadata": {
        "id": "92e3a769"
      },
      "source": [
        "## Initialize environment\n",
        "\n",
        "Note: Before executing this notebook on colab, copy your .env file in /content/drive/MyDrive/.env or otherwise you'll be prompted to enter your GEMINI_API_KEY all the times."
      ]
    },
    {
      "cell_type": "code",
      "execution_count": 1,
      "id": "c2f4e70d",
      "metadata": {
        "id": "c2f4e70d",
        "outputId": "9700e883-b506-43a1-a6bc-b4ad5954872a",
        "colab": {
          "base_uri": "https://localhost:8080/"
        }
      },
      "outputs": [
        {
          "output_type": "stream",
          "name": "stdout",
          "text": [
            "\u001b[2mUsing Python 3.12.11 environment at: /usr\u001b[0m\n",
            "\u001b[2mAudited \u001b[1m1 package\u001b[0m \u001b[2min 218ms\u001b[0m\u001b[0m\n",
            "In Colab: True\n",
            "Drive already mounted at /content/drive; to attempt to forcibly remount, call drive.mount(\"/content/drive\", force_remount=True).\n"
          ]
        }
      ],
      "source": [
        "! uv pip install agentics-py\n",
        "\n",
        "import os\n",
        "import sys\n",
        "from getpass import getpass\n",
        "\n",
        "from dotenv import find_dotenv, load_dotenv\n",
        "\n",
        "CURRENT_PATH = \"\"\n",
        "\n",
        "IN_COLAB = \"google.colab\" in sys.modules\n",
        "print(\"In Colab:\", IN_COLAB)\n",
        "\n",
        "\n",
        "if IN_COLAB:\n",
        "    CURRENT_PATH = \"/content/drive/MyDrive/\"\n",
        "    # Mount your google drive\n",
        "    load_dotenv(\"/content/drive/MyDrive/env\")\n",
        "    from google.colab import drive\n",
        "\n",
        "    drive.mount(\"/content/drive\")\n",
        "else:\n",
        "    load_dotenv(find_dotenv())\n",
        "\n",
        "if not os.getenv(\"GEMINI_API_KEY\"):\n",
        "    os.environ[\"GEMINI_API_KEY\"] = getpass(\"Enter your GEMINI_API_KEY:\")"
      ]
    },
    {
      "cell_type": "markdown",
      "id": "c4e87ade",
      "metadata": {
        "id": "c4e87ade"
      },
      "source": [
        "## Create a new tool\n",
        "Wrap the Duck Duck Go Search API call into a CrewAI tool using the @tool decorator. Similarly you can turn any function of your choice into a tool."
      ]
    },
    {
      "cell_type": "code",
      "execution_count": 2,
      "id": "b1128c1a",
      "metadata": {
        "id": "b1128c1a"
      },
      "outputs": [],
      "source": [
        "from ddgs import DDGS\n",
        "from crewai.tools import tool\n",
        "## Define a Crew AI tool to get news for a given date using the DDGS search engine\n",
        "@tool(\"fetch_data_async\")\n",
        "def web_search(query: str) -> str:\n",
        "    \"\"\" Fetch web search results for the given query using DDGS.\"\"\"\n",
        "    return str(DDGS().text(query, max_results=10))\n"
      ]
    },
    {
      "cell_type": "markdown",
      "id": "748092c9",
      "metadata": {
        "id": "748092c9"
      },
      "source": [
        "## Define your agent, task and crew\n",
        "\n",
        "Note that the agent is provided with memory = True This provides the agent with conversation history. By activating memory=True in the crew, we make sure that the agents persists across multiple crew session calls, with different input states."
      ]
    },
    {
      "cell_type": "code",
      "execution_count": 6,
      "id": "88c23d1a",
      "metadata": {
        "id": "88c23d1a"
      },
      "outputs": [],
      "source": [
        "from crewai import Agent, Task, Crew, Process\n",
        "from pydantic import BaseModel\n",
        "\n",
        "class SqlQuery(BaseModel):\n",
        "  sql_query: str\n",
        "  dataframe: str\n",
        "\n",
        "# Create a conversational agent with a friendly role/goal\n",
        "chat_agent = Agent(\n",
        "    role=\"Helpful Assistant\",\n",
        "    goal=\"Have a natural multi-turn conversation\",\n",
        "    backstory=\"You are a friendly assistant that remembers context and asks for clarification when needed.\",\n",
        "    memory=True  # enable memory for conversational context.\n",
        ")\n",
        "\n",
        "# Define a simple Task that represents a single AI response\n",
        "task = Task(\n",
        "    description=\"Respond appropriately to user's message, maintaining context. {input}\",\n",
        "    expected_output=\"A conversational reply\",\n",
        "    output_pydantic=SqlQuery,\n",
        "    agent=chat_agent,\n",
        "    tools=[web_search]\n",
        ")\n",
        "\n",
        "crew = Crew(\n",
        "    agents=[chat_agent],\n",
        "    tasks=[task],\n",
        "    memory=True,  # ensure conversation state persists across turns\n",
        ")"
      ]
    },
    {
      "cell_type": "markdown",
      "id": "c3cafb0e",
      "metadata": {
        "id": "c3cafb0e"
      },
      "source": [
        "## Run the crew in a conversation loop\n",
        "Since memory has been set to True, the crew will get access to the previous round of conversations, exibiting a conversational behaviour"
      ]
    },
    {
      "cell_type": "code",
      "execution_count": null,
      "id": "6316ff36",
      "metadata": {
        "id": "6316ff36",
        "outputId": "85a2ba08-27dc-46f3-f1e8-4fa298c32ebd",
        "colab": {
          "base_uri": "https://localhost:8080/"
        }
      },
      "outputs": [
        {
          "output_type": "stream",
          "name": "stdout",
          "text": [
            "You: Wrtie a query to find sec filling  of APPLE in wrds datasets\n",
            "\n",
            "\n",
            "===========\n",
            "You:  Wrtie a query to find sec filling  of APPLE in wrds datasets\n",
            "\n",
            "Assistant: I can help you with that! To find SEC filings for Apple Inc. using WRDS datasets, you would typically want to access the appropriate SEC filings database offered by WRDS. Here's how you might structure your query:\n",
            "\n",
            "```\n",
            "SELECT *\n",
            "FROM sec.sec_data\n",
            "WHERE cik = '0000320193'  -- CIK for Apple Inc.\n",
            "AND filing_date >= '2020-01-01'\n",
            "AND filing_date <= '2023-12-31'\n",
            "```\n",
            "\n",
            "In this SQL query:\n",
            "- The `sec.sec_data` is a hypothetical reference to the SEC filings dataset in WRDS.\n",
            "- You need to replace '0000320193' with the CIK (Central Index Key) for Apple Inc. which is specific to AAPL.\n",
            "- You can adjust the date range as necessary.\n",
            "\n",
            "If you need a practical example using the WRDS Python API, it might look something like this:\n",
            "\n",
            "```python\n",
            "import wrds\n",
            "\n",
            "# Connect to WRDS\n",
            "db = wrds.Connection()\n",
            "\n",
            "# Query SEC filings for Apple Inc.\n",
            "filings = db.raw_sql(\"\"\"\n",
            "    SELECT *\n",
            "    FROM sec.sec_data\n",
            "    WHERE cik = '0000320193'\n",
            "    AND filing_date >= '2020-01-01'\n",
            "    AND filing_date <= '2023-12-31'\n",
            "\"\"\")\n",
            "\n",
            "# Print the fetched filings\n",
            "print(filings)\n",
            "\n",
            "# Close the connection\n",
            "db.close()\n",
            "```\n",
            "\n",
            "Make sure you're familiar with how to access the specific SEC filings dataset in WRDS, as the availability and structure can differ. If you have any questions or need further assistance, feel free to ask!\n"
          ]
        }
      ],
      "source": [
        "while user_input := input(\"You: \").strip():\n",
        "    print(\"\\n\\n===========\\nYou: \",user_input)\n",
        "    result = crew.kickoff(inputs={\"input\": user_input})\n",
        "    print(\"\\nAssistant:\", result)"
      ]
    }
  ],
  "metadata": {
    "kernelspec": {
      "display_name": "agentics",
      "language": "python",
      "name": "python3"
    },
    "language_info": {
      "codemirror_mode": {
        "name": "ipython",
        "version": 3
      },
      "file_extension": ".py",
      "mimetype": "text/x-python",
      "name": "python",
      "nbconvert_exporter": "python",
      "pygments_lexer": "ipython3",
      "version": "3.12.11"
    },
    "colab": {
      "provenance": []
    }
  },
  "nbformat": 4,
  "nbformat_minor": 5
}